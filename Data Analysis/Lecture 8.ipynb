{
 "cells": [
  {
   "cell_type": "markdown",
   "id": "175c5569",
   "metadata": {},
   "source": [
    "## 2012 Federal Election Commission Database"
   ]
  },
  {
   "cell_type": "code",
   "execution_count": 1,
   "id": "961a9dc4",
   "metadata": {
    "scrolled": true
   },
   "outputs": [],
   "source": [
    "import pandas as pd\n",
    "import matplotlib.pyplot as plt\n",
    "import seaborn as sns\n",
    "import numpy as np\n",
    "plt.rc('figure', figsize=(10, 6))\n",
    "np.set_printoptions(precision=4)\n",
    "pd.options.display.max_rows = 40"
   ]
  },
  {
   "cell_type": "code",
   "execution_count": 3,
   "id": "53f74220",
   "metadata": {},
   "outputs": [
    {
     "name": "stderr",
     "output_type": "stream",
     "text": [
      "/Users/guangyaoli/opt/anaconda3/lib/python3.8/site-packages/IPython/core/interactiveshell.py:3012: DtypeWarning: Columns (6) have mixed types.Specify dtype option on import or set low_memory=False.\n",
      "  has_raised = await self.run_ast_nodes(code_ast.body, cell_name,\n"
     ]
    },
    {
     "name": "stdout",
     "output_type": "stream",
     "text": [
      "<class 'pandas.core.frame.DataFrame'>\n",
      "RangeIndex: 1001731 entries, 0 to 1001730\n",
      "Data columns (total 16 columns):\n",
      " #   Column             Non-Null Count    Dtype  \n",
      "---  ------             --------------    -----  \n",
      " 0   cmte_id            1001731 non-null  object \n",
      " 1   cand_id            1001731 non-null  object \n",
      " 2   cand_nm            1001731 non-null  object \n",
      " 3   contbr_nm          1001731 non-null  object \n",
      " 4   contbr_city        1001712 non-null  object \n",
      " 5   contbr_st          1001727 non-null  object \n",
      " 6   contbr_zip         1001620 non-null  object \n",
      " 7   contbr_employer    988002 non-null   object \n",
      " 8   contbr_occupation  993301 non-null   object \n",
      " 9   contb_receipt_amt  1001731 non-null  float64\n",
      " 10  contb_receipt_dt   1001731 non-null  object \n",
      " 11  receipt_desc       14166 non-null    object \n",
      " 12  memo_cd            92482 non-null    object \n",
      " 13  memo_text          97770 non-null    object \n",
      " 14  form_tp            1001731 non-null  object \n",
      " 15  file_num           1001731 non-null  int64  \n",
      "dtypes: float64(1), int64(1), object(14)\n",
      "memory usage: 122.3+ MB\n"
     ]
    }
   ],
   "source": [
    "fec = pd.read_csv('P00000001-ALL.csv')\n",
    "fec.info()"
   ]
  },
  {
   "cell_type": "code",
   "execution_count": 4,
   "id": "633f72b4",
   "metadata": {},
   "outputs": [
    {
     "data": {
      "text/plain": [
       "0          366010290.0\n",
       "1          366010290.0\n",
       "2          368633403.0\n",
       "3          724548253.0\n",
       "4          719016467.0\n",
       "              ...     \n",
       "1001726          99999\n",
       "1001727          99999\n",
       "1001728          99999\n",
       "1001729          99999\n",
       "1001730          99999\n",
       "Name: contbr_zip, Length: 1001731, dtype: object"
      ]
     },
     "execution_count": 4,
     "metadata": {},
     "output_type": "execute_result"
    }
   ],
   "source": [
    "fec['contbr_zip']"
   ]
  },
  {
   "cell_type": "code",
   "execution_count": 6,
   "id": "a263b4c7",
   "metadata": {},
   "outputs": [],
   "source": [
    "fec = pd.read_csv('P00000001-ALL.csv', dtype={'contbr_zip':'str'})"
   ]
  },
  {
   "cell_type": "code",
   "execution_count": 7,
   "id": "3f8026ba",
   "metadata": {},
   "outputs": [
    {
     "data": {
      "text/plain": [
       "0          366010290\n",
       "1          366010290\n",
       "2          368633403\n",
       "3          724548253\n",
       "4          719016467\n",
       "             ...    \n",
       "1001726        99999\n",
       "1001727        99999\n",
       "1001728        99999\n",
       "1001729        99999\n",
       "1001730        99999\n",
       "Name: contbr_zip, Length: 1001731, dtype: object"
      ]
     },
     "execution_count": 7,
     "metadata": {},
     "output_type": "execute_result"
    }
   ],
   "source": [
    "fec['contbr_zip']"
   ]
  },
  {
   "cell_type": "code",
   "execution_count": 12,
   "id": "9fd4e518",
   "metadata": {},
   "outputs": [],
   "source": [
    "random_ix = np.random.randint(0,1001731,10)"
   ]
  },
  {
   "cell_type": "code",
   "execution_count": 13,
   "id": "3e55d4a3",
   "metadata": {},
   "outputs": [
    {
     "data": {
      "text/html": [
       "<div>\n",
       "<style scoped>\n",
       "    .dataframe tbody tr th:only-of-type {\n",
       "        vertical-align: middle;\n",
       "    }\n",
       "\n",
       "    .dataframe tbody tr th {\n",
       "        vertical-align: top;\n",
       "    }\n",
       "\n",
       "    .dataframe thead th {\n",
       "        text-align: right;\n",
       "    }\n",
       "</style>\n",
       "<table border=\"1\" class=\"dataframe\">\n",
       "  <thead>\n",
       "    <tr style=\"text-align: right;\">\n",
       "      <th></th>\n",
       "      <th>cmte_id</th>\n",
       "      <th>cand_id</th>\n",
       "      <th>cand_nm</th>\n",
       "      <th>contbr_nm</th>\n",
       "      <th>contbr_city</th>\n",
       "      <th>contbr_st</th>\n",
       "      <th>contbr_zip</th>\n",
       "      <th>contbr_employer</th>\n",
       "      <th>contbr_occupation</th>\n",
       "      <th>contb_receipt_amt</th>\n",
       "      <th>contb_receipt_dt</th>\n",
       "      <th>receipt_desc</th>\n",
       "      <th>memo_cd</th>\n",
       "      <th>memo_text</th>\n",
       "      <th>form_tp</th>\n",
       "      <th>file_num</th>\n",
       "    </tr>\n",
       "  </thead>\n",
       "  <tbody>\n",
       "    <tr>\n",
       "      <th>889902</th>\n",
       "      <td>C00496034</td>\n",
       "      <td>P20002721</td>\n",
       "      <td>Santorum, Rick</td>\n",
       "      <td>SIMONIN, NELLIE</td>\n",
       "      <td>CANONSBURG</td>\n",
       "      <td>PA</td>\n",
       "      <td>153172278</td>\n",
       "      <td>SELF-EMPLOYED</td>\n",
       "      <td>SELF-EMPLOYED</td>\n",
       "      <td>250.0</td>\n",
       "      <td>09-FEB-12</td>\n",
       "      <td>NaN</td>\n",
       "      <td>NaN</td>\n",
       "      <td>NaN</td>\n",
       "      <td>SA17A</td>\n",
       "      <td>771852</td>\n",
       "    </tr>\n",
       "    <tr>\n",
       "      <th>214773</th>\n",
       "      <td>C00431445</td>\n",
       "      <td>P80003338</td>\n",
       "      <td>Obama, Barack</td>\n",
       "      <td>ORR, ELIZABETH</td>\n",
       "      <td>SAN DIEGO</td>\n",
       "      <td>CA</td>\n",
       "      <td>921266108</td>\n",
       "      <td>SYNTHETIC GENOMICS</td>\n",
       "      <td>PATENT AGENT</td>\n",
       "      <td>50.0</td>\n",
       "      <td>29-JUN-11</td>\n",
       "      <td>NaN</td>\n",
       "      <td>NaN</td>\n",
       "      <td>NaN</td>\n",
       "      <td>SA17A</td>\n",
       "      <td>756214</td>\n",
       "    </tr>\n",
       "    <tr>\n",
       "      <th>503795</th>\n",
       "      <td>C00431445</td>\n",
       "      <td>P80003338</td>\n",
       "      <td>Obama, Barack</td>\n",
       "      <td>BOYD, GORDON M</td>\n",
       "      <td>SARATOGA SPRINGS</td>\n",
       "      <td>NY</td>\n",
       "      <td>128661425</td>\n",
       "      <td>ENERGYNEXT, INC.</td>\n",
       "      <td>CONSULTANT</td>\n",
       "      <td>25.0</td>\n",
       "      <td>10-MAY-11</td>\n",
       "      <td>NaN</td>\n",
       "      <td>NaN</td>\n",
       "      <td>NaN</td>\n",
       "      <td>SA17A</td>\n",
       "      <td>756214</td>\n",
       "    </tr>\n",
       "    <tr>\n",
       "      <th>819167</th>\n",
       "      <td>C00495820</td>\n",
       "      <td>P80000748</td>\n",
       "      <td>Paul, Ron</td>\n",
       "      <td>BUCKLEY, REBECCA LYNNE</td>\n",
       "      <td>NOTTINGHAM</td>\n",
       "      <td>PA</td>\n",
       "      <td>193629509</td>\n",
       "      <td>CITIGROUP</td>\n",
       "      <td>FRAUD INVESTIGATOR</td>\n",
       "      <td>53.0</td>\n",
       "      <td>03-AUG-11</td>\n",
       "      <td>NaN</td>\n",
       "      <td>NaN</td>\n",
       "      <td>NaN</td>\n",
       "      <td>SA17A</td>\n",
       "      <td>779225</td>\n",
       "    </tr>\n",
       "    <tr>\n",
       "      <th>584946</th>\n",
       "      <td>C00431445</td>\n",
       "      <td>P80003338</td>\n",
       "      <td>Obama, Barack</td>\n",
       "      <td>KEEFER, COLIN</td>\n",
       "      <td>DALLAS</td>\n",
       "      <td>PA</td>\n",
       "      <td>186121821</td>\n",
       "      <td>RETIRED</td>\n",
       "      <td>RETIRED</td>\n",
       "      <td>100.0</td>\n",
       "      <td>16-DEC-11</td>\n",
       "      <td>NaN</td>\n",
       "      <td>NaN</td>\n",
       "      <td>NaN</td>\n",
       "      <td>SA17A</td>\n",
       "      <td>772372</td>\n",
       "    </tr>\n",
       "    <tr>\n",
       "      <th>833979</th>\n",
       "      <td>C00495820</td>\n",
       "      <td>P80000748</td>\n",
       "      <td>Paul, Ron</td>\n",
       "      <td>WAGNER, JOHN M MR.</td>\n",
       "      <td>HOUSTON</td>\n",
       "      <td>TX</td>\n",
       "      <td>770181810</td>\n",
       "      <td>SELF-EMPLOYED</td>\n",
       "      <td>WRITER</td>\n",
       "      <td>100.0</td>\n",
       "      <td>17-SEP-11</td>\n",
       "      <td>NaN</td>\n",
       "      <td>NaN</td>\n",
       "      <td>NaN</td>\n",
       "      <td>SA17A</td>\n",
       "      <td>779225</td>\n",
       "    </tr>\n",
       "    <tr>\n",
       "      <th>779961</th>\n",
       "      <td>C00495820</td>\n",
       "      <td>P80000748</td>\n",
       "      <td>Paul, Ron</td>\n",
       "      <td>MERRIAM, TITUS I MR.</td>\n",
       "      <td>CHARLOTTE</td>\n",
       "      <td>MI</td>\n",
       "      <td>48813</td>\n",
       "      <td>EMECO</td>\n",
       "      <td>LABORER</td>\n",
       "      <td>100.0</td>\n",
       "      <td>20-AUG-11</td>\n",
       "      <td>NaN</td>\n",
       "      <td>NaN</td>\n",
       "      <td>NaN</td>\n",
       "      <td>SA17A</td>\n",
       "      <td>779225</td>\n",
       "    </tr>\n",
       "    <tr>\n",
       "      <th>541678</th>\n",
       "      <td>C00431445</td>\n",
       "      <td>P80003338</td>\n",
       "      <td>Obama, Barack</td>\n",
       "      <td>DEVITO, ANGELA M.</td>\n",
       "      <td>SOUTH JAMESPORT</td>\n",
       "      <td>NY</td>\n",
       "      <td>119700278</td>\n",
       "      <td>BUILDING TRADES</td>\n",
       "      <td>WORKFORCE DEVELOPER</td>\n",
       "      <td>50.0</td>\n",
       "      <td>26-APR-12</td>\n",
       "      <td>NaN</td>\n",
       "      <td>NaN</td>\n",
       "      <td>NaN</td>\n",
       "      <td>SA17A</td>\n",
       "      <td>785239</td>\n",
       "    </tr>\n",
       "    <tr>\n",
       "      <th>224791</th>\n",
       "      <td>C00431445</td>\n",
       "      <td>P80003338</td>\n",
       "      <td>Obama, Barack</td>\n",
       "      <td>ORBE, MARY</td>\n",
       "      <td>LOS GATOS</td>\n",
       "      <td>CA</td>\n",
       "      <td>950327391</td>\n",
       "      <td>SELF-EMPLOYED</td>\n",
       "      <td>DAYCARE FOR GRANDCHILDREN</td>\n",
       "      <td>10.0</td>\n",
       "      <td>25-AUG-11</td>\n",
       "      <td>NaN</td>\n",
       "      <td>X</td>\n",
       "      <td>* OBAMA VICTORY FUND 2012</td>\n",
       "      <td>SA18</td>\n",
       "      <td>756218</td>\n",
       "    </tr>\n",
       "    <tr>\n",
       "      <th>201475</th>\n",
       "      <td>C00431445</td>\n",
       "      <td>P80003338</td>\n",
       "      <td>Obama, Barack</td>\n",
       "      <td>LEE, KIMBERLY</td>\n",
       "      <td>INGLEWOOD</td>\n",
       "      <td>CA</td>\n",
       "      <td>90305</td>\n",
       "      <td>UNITED REALTORS</td>\n",
       "      <td>REALTOR</td>\n",
       "      <td>1000.0</td>\n",
       "      <td>25-JAN-12</td>\n",
       "      <td>NaN</td>\n",
       "      <td>X</td>\n",
       "      <td>* OBAMA VICTORY FUND 2012</td>\n",
       "      <td>SA18</td>\n",
       "      <td>775668</td>\n",
       "    </tr>\n",
       "  </tbody>\n",
       "</table>\n",
       "</div>"
      ],
      "text/plain": [
       "          cmte_id    cand_id         cand_nm               contbr_nm  \\\n",
       "889902  C00496034  P20002721  Santorum, Rick         SIMONIN, NELLIE   \n",
       "214773  C00431445  P80003338   Obama, Barack          ORR, ELIZABETH   \n",
       "503795  C00431445  P80003338   Obama, Barack          BOYD, GORDON M   \n",
       "819167  C00495820  P80000748       Paul, Ron  BUCKLEY, REBECCA LYNNE   \n",
       "584946  C00431445  P80003338   Obama, Barack           KEEFER, COLIN   \n",
       "833979  C00495820  P80000748       Paul, Ron      WAGNER, JOHN M MR.   \n",
       "779961  C00495820  P80000748       Paul, Ron    MERRIAM, TITUS I MR.   \n",
       "541678  C00431445  P80003338   Obama, Barack       DEVITO, ANGELA M.   \n",
       "224791  C00431445  P80003338   Obama, Barack              ORBE, MARY   \n",
       "201475  C00431445  P80003338   Obama, Barack           LEE, KIMBERLY   \n",
       "\n",
       "             contbr_city contbr_st contbr_zip     contbr_employer  \\\n",
       "889902        CANONSBURG        PA  153172278       SELF-EMPLOYED   \n",
       "214773         SAN DIEGO        CA  921266108  SYNTHETIC GENOMICS   \n",
       "503795  SARATOGA SPRINGS        NY  128661425    ENERGYNEXT, INC.   \n",
       "819167        NOTTINGHAM        PA  193629509           CITIGROUP   \n",
       "584946            DALLAS        PA  186121821             RETIRED   \n",
       "833979           HOUSTON        TX  770181810       SELF-EMPLOYED   \n",
       "779961         CHARLOTTE        MI      48813               EMECO   \n",
       "541678   SOUTH JAMESPORT        NY  119700278     BUILDING TRADES   \n",
       "224791         LOS GATOS        CA  950327391       SELF-EMPLOYED   \n",
       "201475         INGLEWOOD        CA      90305     UNITED REALTORS   \n",
       "\n",
       "                contbr_occupation  contb_receipt_amt contb_receipt_dt  \\\n",
       "889902              SELF-EMPLOYED              250.0        09-FEB-12   \n",
       "214773               PATENT AGENT               50.0        29-JUN-11   \n",
       "503795                 CONSULTANT               25.0        10-MAY-11   \n",
       "819167         FRAUD INVESTIGATOR               53.0        03-AUG-11   \n",
       "584946                    RETIRED              100.0        16-DEC-11   \n",
       "833979                     WRITER              100.0        17-SEP-11   \n",
       "779961                    LABORER              100.0        20-AUG-11   \n",
       "541678        WORKFORCE DEVELOPER               50.0        26-APR-12   \n",
       "224791  DAYCARE FOR GRANDCHILDREN               10.0        25-AUG-11   \n",
       "201475                    REALTOR             1000.0        25-JAN-12   \n",
       "\n",
       "       receipt_desc memo_cd                  memo_text form_tp  file_num  \n",
       "889902          NaN     NaN                        NaN   SA17A    771852  \n",
       "214773          NaN     NaN                        NaN   SA17A    756214  \n",
       "503795          NaN     NaN                        NaN   SA17A    756214  \n",
       "819167          NaN     NaN                        NaN   SA17A    779225  \n",
       "584946          NaN     NaN                        NaN   SA17A    772372  \n",
       "833979          NaN     NaN                        NaN   SA17A    779225  \n",
       "779961          NaN     NaN                        NaN   SA17A    779225  \n",
       "541678          NaN     NaN                        NaN   SA17A    785239  \n",
       "224791          NaN       X  * OBAMA VICTORY FUND 2012    SA18    756218  \n",
       "201475          NaN       X  * OBAMA VICTORY FUND 2012    SA18    775668  "
      ]
     },
     "execution_count": 13,
     "metadata": {},
     "output_type": "execute_result"
    }
   ],
   "source": [
    "random_sample = fec.iloc[random_ix]\n",
    "random_sample"
   ]
  },
  {
   "cell_type": "code",
   "execution_count": 14,
   "id": "5e0defa6",
   "metadata": {},
   "outputs": [
    {
     "data": {
      "text/plain": [
       "array(['Bachmann, Michelle', 'Romney, Mitt', 'Obama, Barack',\n",
       "       \"Roemer, Charles E. 'Buddy' III\", 'Pawlenty, Timothy',\n",
       "       'Johnson, Gary Earl', 'Paul, Ron', 'Santorum, Rick',\n",
       "       'Cain, Herman', 'Gingrich, Newt', 'McCotter, Thaddeus G',\n",
       "       'Huntsman, Jon', 'Perry, Rick'], dtype=object)"
      ]
     },
     "execution_count": 14,
     "metadata": {},
     "output_type": "execute_result"
    }
   ],
   "source": [
    "unique_cands = fec.cand_nm.unique()\n",
    "unique_cands"
   ]
  },
  {
   "cell_type": "code",
   "execution_count": 15,
   "id": "6852edf7",
   "metadata": {},
   "outputs": [],
   "source": [
    "parties = {'Bachmann, Michelle': 'Republican',\n",
    "           'Cain, Herman': 'Republican',\n",
    "           'Gingrich, Newt': 'Republican',\n",
    "           'Huntsman, Jon': 'Republican',\n",
    "           'Johnson, Gary Earl': 'Republican',\n",
    "           'McCotter, Thaddeus G': 'Republican',\n",
    "           'Obama, Barack': 'Democrat',\n",
    "           'Paul, Ron': 'Republican',\n",
    "           'Pawlenty, Timothy': 'Republican',\n",
    "           'Perry, Rick': 'Republican',\n",
    "           \"Roemer, Charles E. 'Buddy' III\": 'Republican',\n",
    "           'Romney, Mitt': 'Republican',\n",
    "           'Santorum, Rick': 'Republican'}"
   ]
  },
  {
   "cell_type": "code",
   "execution_count": 16,
   "id": "00f08603",
   "metadata": {},
   "outputs": [
    {
     "data": {
      "text/plain": [
       "889902    Santorum, Rick\n",
       "214773     Obama, Barack\n",
       "503795     Obama, Barack\n",
       "819167         Paul, Ron\n",
       "584946     Obama, Barack\n",
       "833979         Paul, Ron\n",
       "779961         Paul, Ron\n",
       "541678     Obama, Barack\n",
       "224791     Obama, Barack\n",
       "201475     Obama, Barack\n",
       "Name: cand_nm, dtype: object"
      ]
     },
     "execution_count": 16,
     "metadata": {},
     "output_type": "execute_result"
    }
   ],
   "source": [
    "random_sample.cand_nm"
   ]
  },
  {
   "cell_type": "code",
   "execution_count": 18,
   "id": "b4559faa",
   "metadata": {},
   "outputs": [
    {
     "data": {
      "text/plain": [
       "889902    Republican\n",
       "214773      Democrat\n",
       "503795      Democrat\n",
       "819167    Republican\n",
       "584946      Democrat\n",
       "833979    Republican\n",
       "779961    Republican\n",
       "541678      Democrat\n",
       "224791      Democrat\n",
       "201475      Democrat\n",
       "Name: cand_nm, dtype: object"
      ]
     },
     "execution_count": 18,
     "metadata": {},
     "output_type": "execute_result"
    }
   ],
   "source": [
    "random_sample.cand_nm.map(parties)"
   ]
  },
  {
   "cell_type": "code",
   "execution_count": 19,
   "id": "45702b89",
   "metadata": {},
   "outputs": [
    {
     "data": {
      "text/plain": [
       "Democrat      593746\n",
       "Republican    407985\n",
       "Name: party, dtype: int64"
      ]
     },
     "execution_count": 19,
     "metadata": {},
     "output_type": "execute_result"
    }
   ],
   "source": [
    "# Add it as a column\n",
    "fec['party'] = fec.cand_nm.map(parties)\n",
    "fec['party'].value_counts()"
   ]
  },
  {
   "cell_type": "code",
   "execution_count": 20,
   "id": "650c93bf",
   "metadata": {},
   "outputs": [
    {
     "data": {
      "text/html": [
       "<div>\n",
       "<style scoped>\n",
       "    .dataframe tbody tr th:only-of-type {\n",
       "        vertical-align: middle;\n",
       "    }\n",
       "\n",
       "    .dataframe tbody tr th {\n",
       "        vertical-align: top;\n",
       "    }\n",
       "\n",
       "    .dataframe thead th {\n",
       "        text-align: right;\n",
       "    }\n",
       "</style>\n",
       "<table border=\"1\" class=\"dataframe\">\n",
       "  <thead>\n",
       "    <tr style=\"text-align: right;\">\n",
       "      <th></th>\n",
       "      <th>cmte_id</th>\n",
       "      <th>cand_id</th>\n",
       "      <th>cand_nm</th>\n",
       "      <th>contbr_nm</th>\n",
       "      <th>contbr_city</th>\n",
       "      <th>contbr_st</th>\n",
       "      <th>contbr_zip</th>\n",
       "      <th>contbr_employer</th>\n",
       "      <th>contbr_occupation</th>\n",
       "      <th>contb_receipt_amt</th>\n",
       "      <th>contb_receipt_dt</th>\n",
       "      <th>receipt_desc</th>\n",
       "      <th>memo_cd</th>\n",
       "      <th>memo_text</th>\n",
       "      <th>form_tp</th>\n",
       "      <th>file_num</th>\n",
       "      <th>party</th>\n",
       "    </tr>\n",
       "  </thead>\n",
       "  <tbody>\n",
       "    <tr>\n",
       "      <th>796277</th>\n",
       "      <td>C00495820</td>\n",
       "      <td>P80000748</td>\n",
       "      <td>Paul, Ron</td>\n",
       "      <td>SIPIKA, PAWEL</td>\n",
       "      <td>EAST WINDSOR</td>\n",
       "      <td>NJ</td>\n",
       "      <td>085122513</td>\n",
       "      <td>SELF</td>\n",
       "      <td>CPA</td>\n",
       "      <td>100.0</td>\n",
       "      <td>19-OCT-11</td>\n",
       "      <td>NaN</td>\n",
       "      <td>NaN</td>\n",
       "      <td>NaN</td>\n",
       "      <td>SA17A</td>\n",
       "      <td>779227</td>\n",
       "      <td>Republican</td>\n",
       "    </tr>\n",
       "    <tr>\n",
       "      <th>532696</th>\n",
       "      <td>C00431445</td>\n",
       "      <td>P80003338</td>\n",
       "      <td>Obama, Barack</td>\n",
       "      <td>HALLDORSON, MATT</td>\n",
       "      <td>NEW YORK</td>\n",
       "      <td>NY</td>\n",
       "      <td>100332218</td>\n",
       "      <td>THE EDUCATIONAL ALLIANCE, INC.</td>\n",
       "      <td>BUSINESS MANAGER</td>\n",
       "      <td>35.0</td>\n",
       "      <td>24-APR-12</td>\n",
       "      <td>NaN</td>\n",
       "      <td>NaN</td>\n",
       "      <td>NaN</td>\n",
       "      <td>SA17A</td>\n",
       "      <td>785239</td>\n",
       "      <td>Democrat</td>\n",
       "    </tr>\n",
       "    <tr>\n",
       "      <th>505236</th>\n",
       "      <td>C00431445</td>\n",
       "      <td>P80003338</td>\n",
       "      <td>Obama, Barack</td>\n",
       "      <td>KEANE, ELAINE</td>\n",
       "      <td>NEW YORK</td>\n",
       "      <td>NY</td>\n",
       "      <td>10024</td>\n",
       "      <td>INFORMATION REQUESTED</td>\n",
       "      <td>INFORMATION REQUESTED</td>\n",
       "      <td>250.0</td>\n",
       "      <td>24-MAY-11</td>\n",
       "      <td>NaN</td>\n",
       "      <td>NaN</td>\n",
       "      <td>NaN</td>\n",
       "      <td>SA17A</td>\n",
       "      <td>756214</td>\n",
       "      <td>Democrat</td>\n",
       "    </tr>\n",
       "    <tr>\n",
       "      <th>470081</th>\n",
       "      <td>C00431445</td>\n",
       "      <td>P80003338</td>\n",
       "      <td>Obama, Barack</td>\n",
       "      <td>HANCOCK, TRACI</td>\n",
       "      <td>OMAHA</td>\n",
       "      <td>NE</td>\n",
       "      <td>68132</td>\n",
       "      <td>KENOTOMEO</td>\n",
       "      <td>EXECUTIVE DIRECTOR</td>\n",
       "      <td>56.0</td>\n",
       "      <td>19-APR-12</td>\n",
       "      <td>NaN</td>\n",
       "      <td>NaN</td>\n",
       "      <td>NaN</td>\n",
       "      <td>SA17A</td>\n",
       "      <td>785239</td>\n",
       "      <td>Democrat</td>\n",
       "    </tr>\n",
       "    <tr>\n",
       "      <th>319249</th>\n",
       "      <td>C00431445</td>\n",
       "      <td>P80003338</td>\n",
       "      <td>Obama, Barack</td>\n",
       "      <td>DRUCKER, SALLY</td>\n",
       "      <td>CHICAGO</td>\n",
       "      <td>IL</td>\n",
       "      <td>60614</td>\n",
       "      <td>SELF-EMPLOYED</td>\n",
       "      <td>ALTERNATIVE CONFLICT RESOLUTION SPECIA</td>\n",
       "      <td>100.0</td>\n",
       "      <td>30-APR-12</td>\n",
       "      <td>NaN</td>\n",
       "      <td>NaN</td>\n",
       "      <td>NaN</td>\n",
       "      <td>SA17A</td>\n",
       "      <td>785239</td>\n",
       "      <td>Democrat</td>\n",
       "    </tr>\n",
       "  </tbody>\n",
       "</table>\n",
       "</div>"
      ],
      "text/plain": [
       "          cmte_id    cand_id        cand_nm         contbr_nm   contbr_city  \\\n",
       "796277  C00495820  P80000748      Paul, Ron     SIPIKA, PAWEL  EAST WINDSOR   \n",
       "532696  C00431445  P80003338  Obama, Barack  HALLDORSON, MATT      NEW YORK   \n",
       "505236  C00431445  P80003338  Obama, Barack     KEANE, ELAINE      NEW YORK   \n",
       "470081  C00431445  P80003338  Obama, Barack    HANCOCK, TRACI         OMAHA   \n",
       "319249  C00431445  P80003338  Obama, Barack    DRUCKER, SALLY       CHICAGO   \n",
       "\n",
       "       contbr_st contbr_zip                 contbr_employer  \\\n",
       "796277        NJ  085122513                            SELF   \n",
       "532696        NY  100332218  THE EDUCATIONAL ALLIANCE, INC.   \n",
       "505236        NY      10024           INFORMATION REQUESTED   \n",
       "470081        NE      68132                       KENOTOMEO   \n",
       "319249        IL      60614                   SELF-EMPLOYED   \n",
       "\n",
       "                             contbr_occupation  contb_receipt_amt  \\\n",
       "796277                                     CPA              100.0   \n",
       "532696                        BUSINESS MANAGER               35.0   \n",
       "505236                   INFORMATION REQUESTED              250.0   \n",
       "470081                      EXECUTIVE DIRECTOR               56.0   \n",
       "319249  ALTERNATIVE CONFLICT RESOLUTION SPECIA              100.0   \n",
       "\n",
       "       contb_receipt_dt receipt_desc memo_cd memo_text form_tp  file_num  \\\n",
       "796277        19-OCT-11          NaN     NaN       NaN   SA17A    779227   \n",
       "532696        24-APR-12          NaN     NaN       NaN   SA17A    785239   \n",
       "505236        24-MAY-11          NaN     NaN       NaN   SA17A    756214   \n",
       "470081        19-APR-12          NaN     NaN       NaN   SA17A    785239   \n",
       "319249        30-APR-12          NaN     NaN       NaN   SA17A    785239   \n",
       "\n",
       "             party  \n",
       "796277  Republican  \n",
       "532696    Democrat  \n",
       "505236    Democrat  \n",
       "470081    Democrat  \n",
       "319249    Democrat  "
      ]
     },
     "execution_count": 20,
     "metadata": {},
     "output_type": "execute_result"
    }
   ],
   "source": [
    "fec.sample(5)"
   ]
  },
  {
   "cell_type": "code",
   "execution_count": 21,
   "id": "c0817b41",
   "metadata": {},
   "outputs": [
    {
     "data": {
      "text/plain": [
       "True     991475\n",
       "False     10256\n",
       "Name: contb_receipt_amt, dtype: int64"
      ]
     },
     "execution_count": 21,
     "metadata": {},
     "output_type": "execute_result"
    }
   ],
   "source": [
    "(fec.contb_receipt_amt > 0).value_counts()"
   ]
  },
  {
   "cell_type": "code",
   "execution_count": 22,
   "id": "5ee1d47c",
   "metadata": {},
   "outputs": [
    {
     "data": {
      "text/plain": [
       "True    991475\n",
       "Name: contb_receipt_amt, dtype: int64"
      ]
     },
     "execution_count": 22,
     "metadata": {},
     "output_type": "execute_result"
    }
   ],
   "source": [
    "fec = fec[fec.contb_receipt_amt > 0]\n",
    "(fec.contb_receipt_amt > 0).value_counts()"
   ]
  },
  {
   "cell_type": "code",
   "execution_count": 23,
   "id": "cee3095f",
   "metadata": {},
   "outputs": [
    {
     "name": "stdout",
     "output_type": "stream",
     "text": [
      "<class 'pandas.core.frame.DataFrame'>\n",
      "Int64Index: 694282 entries, 411 to 701385\n",
      "Data columns (total 17 columns):\n",
      " #   Column             Non-Null Count   Dtype  \n",
      "---  ------             --------------   -----  \n",
      " 0   cmte_id            694282 non-null  object \n",
      " 1   cand_id            694282 non-null  object \n",
      " 2   cand_nm            694282 non-null  object \n",
      " 3   contbr_nm          694282 non-null  object \n",
      " 4   contbr_city        694275 non-null  object \n",
      " 5   contbr_st          694278 non-null  object \n",
      " 6   contbr_zip         694234 non-null  object \n",
      " 7   contbr_employer    693607 non-null  object \n",
      " 8   contbr_occupation  693524 non-null  object \n",
      " 9   contb_receipt_amt  694282 non-null  float64\n",
      " 10  contb_receipt_dt   694282 non-null  object \n",
      " 11  receipt_desc       2345 non-null    object \n",
      " 12  memo_cd            87387 non-null   object \n",
      " 13  memo_text          90672 non-null   object \n",
      " 14  form_tp            694282 non-null  object \n",
      " 15  file_num           694282 non-null  int64  \n",
      " 16  party              694282 non-null  object \n",
      "dtypes: float64(1), int64(1), object(15)\n",
      "memory usage: 95.3+ MB\n"
     ]
    }
   ],
   "source": [
    "fec_mrbo = fec[fec.cand_nm.isin(['Obama, Barack', 'Romney, Mitt'])]\n",
    "fec_mrbo.info()"
   ]
  },
  {
   "cell_type": "markdown",
   "id": "d9521162",
   "metadata": {},
   "source": [
    "### Donation Statistics by Occupation and Employer"
   ]
  },
  {
   "cell_type": "code",
   "execution_count": 27,
   "id": "d58cd8f8",
   "metadata": {},
   "outputs": [
    {
     "data": {
      "text/plain": [
       "RETIRED                                   177473\n",
       "ATTORNEY                                   30133\n",
       "INFORMATION REQUESTED                      24747\n",
       "HOMEMAKER                                  19626\n",
       "PHYSICIAN                                  17206\n",
       "                                           ...  \n",
       "DEPUTY FINANCE DIRECTOR                        1\n",
       "RETIRED EDUCATIONAL COUNSELING & TESTI         1\n",
       "COMMUNITY PLANNER                              1\n",
       "PRIMARY CAREGIVER                              1\n",
       "WRITER/REAL ESTATE                             1\n",
       "Name: contbr_occupation, Length: 33603, dtype: int64"
      ]
     },
     "execution_count": 27,
     "metadata": {},
     "output_type": "execute_result"
    }
   ],
   "source": [
    "occupation_counts = fec_mrbo.contbr_occupation.value_counts()\n",
    "occupation_counts"
   ]
  },
  {
   "cell_type": "code",
   "execution_count": 28,
   "id": "cd28b8bd",
   "metadata": {},
   "outputs": [
    {
     "data": {
      "text/plain": [
       "<AxesSubplot:xlabel='contbr_occupation', ylabel='Count'>"
      ]
     },
     "execution_count": 28,
     "metadata": {},
     "output_type": "execute_result"
    },
    {
     "data": {
      "image/png": "[encoded data removed]",
      "text/plain": [
       "<Figure size 720x432 with 1 Axes>"
      ]
     },
     "metadata": {
      "needs_background": "light"
     },
     "output_type": "display_data"
    }
   ],
   "source": [
    "# get only contributions from the top n occupations\n",
    "#n=10\n",
    "n = 30\n",
    "t = fec_mrbo[fec_mrbo.contbr_occupation.isin(occupation_counts[:n].index)]\n",
    "\n",
    "sns.histplot(data=t, cumulative = True, x ='contbr_occupation')"
   ]
  },
  {
   "cell_type": "code",
   "execution_count": 29,
   "id": "35f336fe",
   "metadata": {},
   "outputs": [
    {
     "data": {
      "text/plain": [
       "<AxesSubplot:xlabel='contbr_occupation', ylabel='Count'>"
      ]
     },
     "execution_count": 29,
     "metadata": {},
     "output_type": "execute_result"
    },
    {
     "data": {
      "image/png": "[encoded data removed]",
      "text/plain": [
       "<Figure size 720x432 with 1 Axes>"
      ]
     },
     "metadata": {
      "needs_background": "light"
     },
     "output_type": "display_data"
    }
   ],
   "source": [
    "# get only contributions from the bottom n occupations\n",
    "n = 200\n",
    "t = fec_mrbo[fec_mrbo.contbr_occupation.isin(occupation_counts[-n:].index)]\n",
    "\n",
    "sns.histplot(data=t, cumulative = True, x ='contbr_occupation')"
   ]
  },
  {
   "cell_type": "code",
   "execution_count": 30,
   "id": "e763929d",
   "metadata": {},
   "outputs": [
    {
     "data": {
      "text/plain": [
       "RETIRED                                   177473\n",
       "ATTORNEY                                   30133\n",
       "INFORMATION REQUESTED                      24747\n",
       "HOMEMAKER                                  19626\n",
       "PHYSICIAN                                  17206\n",
       "INFORMATION REQUESTED PER BEST EFFORTS     12545\n",
       "PROFESSOR                                  11804\n",
       "TEACHER                                    11512\n",
       "CONSULTANT                                 10061\n",
       "NOT EMPLOYED                                9696\n",
       "LAWYER                                      7438\n",
       "ENGINEER                                    6107\n",
       "PRESIDENT                                   4864\n",
       "MANAGER                                     4745\n",
       "WRITER                                      4439\n",
       "SELF-EMPLOYED                               3763\n",
       "SALES                                       3697\n",
       "EXECUTIVE                                   3609\n",
       "OWNER                                       3408\n",
       "EDUCATOR                                    3360\n",
       "STUDENT                                     3269\n",
       "CEO                                         3177\n",
       "ARTIST                                      3102\n",
       "RN                                          2847\n",
       "REGISTERED NURSE                            2447\n",
       "SOCIAL WORKER                               2424\n",
       "ACCOUNTANT                                  2422\n",
       "PSYCHOLOGIST                                2352\n",
       "SOFTWARE ENGINEER                           2233\n",
       "BUSINESS OWNER                              2119\n",
       "Name: contbr_occupation, dtype: int64"
      ]
     },
     "execution_count": 30,
     "metadata": {},
     "output_type": "execute_result"
    }
   ],
   "source": [
    "occupation_counts[:30]"
   ]
  },
  {
   "cell_type": "code",
   "execution_count": 31,
   "id": "c04f75b6",
   "metadata": {},
   "outputs": [
    {
     "name": "stderr",
     "output_type": "stream",
     "text": [
      "/Users/guangyaoli/opt/anaconda3/lib/python3.8/site-packages/pandas/core/generic.py:5494: SettingWithCopyWarning: \n",
      "A value is trying to be set on a copy of a slice from a DataFrame.\n",
      "Try using .loc[row_indexer,col_indexer] = value instead\n",
      "\n",
      "See the caveats in the documentation: https://pandas.pydata.org/pandas-docs/stable/user_guide/indexing.html#returning-a-view-versus-a-copy\n",
      "  self[name] = value\n"
     ]
    }
   ],
   "source": [
    "occ_mapping = {\n",
    "    'INFORMATION REQUESTED PER BEST EFFORTS' : 'NOT PROVIDED',\n",
    "    'INFORMATION REQUESTED' : 'NOT PROVIDED',\n",
    "    'INFORMATION REQUESTED (BEST EFFORTS)' : 'NOT PROVIDED',\n",
    "    'RN': 'REGISTERED NURSE',\n",
    "    'HOMEMAKER' : 'NOT EMPLOYED',\n",
    "    'LAWYER' : 'ATTORNEY',\n",
    "    'BUSINESS OWNER' : 'OWNER',\n",
    "    'EDUCATOR' : 'TEACHER',\n",
    "    'CEO' :'EXECUTIVE',\n",
    "    'C.E.O.':'EXECUTIVE',\n",
    "    'SELF' : 'SELF-EMPLOYED',\n",
    "    'SELF EMPLOYED' : 'SELF-EMPLOYED'\n",
    "}\n",
    "\n",
    "# If no mapping provided, return x\n",
    "f = lambda x: occ_mapping.get(x, x)\n",
    "fec_mrbo.contbr_occupation = fec_mrbo.contbr_occupation.map(f)"
   ]
  },
  {
   "cell_type": "code",
   "execution_count": 39,
   "id": "78ab636d",
   "metadata": {},
   "outputs": [
    {
     "name": "stderr",
     "output_type": "stream",
     "text": [
      "/Users/guangyaoli/opt/anaconda3/lib/python3.8/site-packages/pandas/core/generic.py:5494: SettingWithCopyWarning: \n",
      "A value is trying to be set on a copy of a slice from a DataFrame.\n",
      "Try using .loc[row_indexer,col_indexer] = value instead\n",
      "\n",
      "See the caveats in the documentation: https://pandas.pydata.org/pandas-docs/stable/user_guide/indexing.html#returning-a-view-versus-a-copy\n",
      "  self[name] = value\n"
     ]
    }
   ],
   "source": [
    "emp_mapping = {\n",
    "    'INFORMATION REQUESTED PER BEST EFFORTS' : 'NOT PROVIDED',\n",
    "    'INFORMATION REQUESTED' : 'NOT PROVIDED',\n",
    "    'SELF' : 'SELF-EMPLOYED',\n",
    "    'SELF EMPLOYED' : 'SELF-EMPLOYED',\n",
    "    'HOMEMAKER' : 'NOT EMPLOYED'\n",
    "}\n",
    "\n",
    "# If no mapping provided, return x\n",
    "f = lambda x: emp_mapping.get(x, x)\n",
    "fec_mrbo.contbr_employer = fec_mrbo.contbr_employer.map(f)"
   ]
  },
  {
   "cell_type": "code",
   "execution_count": 74,
   "id": "29557ecf",
   "metadata": {},
   "outputs": [
    {
     "data": {
      "text/html": [
       "<div>\n",
       "<style scoped>\n",
       "    .dataframe tbody tr th:only-of-type {\n",
       "        vertical-align: middle;\n",
       "    }\n",
       "\n",
       "    .dataframe tbody tr th {\n",
       "        vertical-align: top;\n",
       "    }\n",
       "\n",
       "    .dataframe thead th {\n",
       "        text-align: right;\n",
       "    }\n",
       "</style>\n",
       "<table border=\"1\" class=\"dataframe\">\n",
       "  <thead>\n",
       "    <tr style=\"text-align: right;\">\n",
       "      <th>party</th>\n",
       "      <th>Democrat</th>\n",
       "      <th>Republican</th>\n",
       "    </tr>\n",
       "    <tr>\n",
       "      <th>contbr_occupation</th>\n",
       "      <th></th>\n",
       "      <th></th>\n",
       "    </tr>\n",
       "  </thead>\n",
       "  <tbody>\n",
       "    <tr>\n",
       "      <th>ATTORNEY</th>\n",
       "      <td>14302461.84</td>\n",
       "      <td>5372424.02</td>\n",
       "    </tr>\n",
       "    <tr>\n",
       "      <th>CONSULTANT</th>\n",
       "      <td>2459912.71</td>\n",
       "      <td>1424894.01</td>\n",
       "    </tr>\n",
       "    <tr>\n",
       "      <th>EXECUTIVE</th>\n",
       "      <td>3430135.84</td>\n",
       "      <td>4625244.06</td>\n",
       "    </tr>\n",
       "    <tr>\n",
       "      <th>INVESTOR</th>\n",
       "      <td>884133.00</td>\n",
       "      <td>1537595.12</td>\n",
       "    </tr>\n",
       "    <tr>\n",
       "      <th>NOT EMPLOYED</th>\n",
       "      <td>5958064.00</td>\n",
       "      <td>8147446.22</td>\n",
       "    </tr>\n",
       "    <tr>\n",
       "      <th>NOT PROVIDED</th>\n",
       "      <td>4866973.96</td>\n",
       "      <td>11396894.84</td>\n",
       "    </tr>\n",
       "    <tr>\n",
       "      <th>OWNER</th>\n",
       "      <td>1451546.66</td>\n",
       "      <td>1492576.10</td>\n",
       "    </tr>\n",
       "    <tr>\n",
       "      <th>PHYSICIAN</th>\n",
       "      <td>3735124.94</td>\n",
       "      <td>1368023.96</td>\n",
       "    </tr>\n",
       "    <tr>\n",
       "      <th>PRESIDENT</th>\n",
       "      <td>1878509.95</td>\n",
       "      <td>2491244.89</td>\n",
       "    </tr>\n",
       "    <tr>\n",
       "      <th>PROFESSOR</th>\n",
       "      <td>2165071.08</td>\n",
       "      <td>161362.12</td>\n",
       "    </tr>\n",
       "    <tr>\n",
       "      <th>RETIRED</th>\n",
       "      <td>25305116.38</td>\n",
       "      <td>11508473.59</td>\n",
       "    </tr>\n",
       "  </tbody>\n",
       "</table>\n",
       "</div>"
      ],
      "text/plain": [
       "party                 Democrat   Republican\n",
       "contbr_occupation                          \n",
       "ATTORNEY           14302461.84   5372424.02\n",
       "CONSULTANT          2459912.71   1424894.01\n",
       "EXECUTIVE           3430135.84   4625244.06\n",
       "INVESTOR             884133.00   1537595.12\n",
       "NOT EMPLOYED        5958064.00   8147446.22\n",
       "NOT PROVIDED        4866973.96  11396894.84\n",
       "OWNER               1451546.66   1492576.10\n",
       "PHYSICIAN           3735124.94   1368023.96\n",
       "PRESIDENT           1878509.95   2491244.89\n",
       "PROFESSOR           2165071.08    161362.12\n",
       "RETIRED            25305116.38  11508473.59"
      ]
     },
     "execution_count": 74,
     "metadata": {},
     "output_type": "execute_result"
    }
   ],
   "source": [
    "by_occupation = fec_mrbo.pivot_table('contb_receipt_amt',\n",
    "                                index='contbr_occupation',\n",
    "                                columns='party', aggfunc='sum')\n",
    "over_2mm = by_occupation[by_occupation.sum(1) > 2000000]\n",
    "over_2mm"
   ]
  },
  {
   "cell_type": "code",
   "execution_count": 35,
   "id": "f40fb33a",
   "metadata": {},
   "outputs": [
    {
     "data": {
      "text/plain": [
       "<AxesSubplot:ylabel='contbr_occupation'>"
      ]
     },
     "execution_count": 35,
     "metadata": {},
     "output_type": "execute_result"
    },
    {
     "data": {
      "image/png": "[encoded data removed]",
      "text/plain": [
       "<Figure size 720x432 with 1 Axes>"
      ]
     },
     "metadata": {
      "needs_background": "light"
     },
     "output_type": "display_data"
    }
   ],
   "source": [
    "over_2mm.plot(kind='barh')"
   ]
  },
  {
   "cell_type": "code",
   "execution_count": 36,
   "id": "995b9961",
   "metadata": {},
   "outputs": [],
   "source": [
    "def get_top_amounts(group, key, n=5):\n",
    "    totals = group.groupby(key)['contb_receipt_amt'].sum()\n",
    "    return totals.nlargest(n)"
   ]
  },
  {
   "cell_type": "code",
   "execution_count": 73,
   "id": "efd8773c",
   "metadata": {},
   "outputs": [
    {
     "data": {
      "text/plain": [
       "cand_nm        contbr_employer   \n",
       "Obama, Barack  RETIRED               22694358.85\n",
       "               SELF-EMPLOYED         18626807.16\n",
       "               NOT EMPLOYED          11191717.24\n",
       "               NOT PROVIDED           5053480.37\n",
       "               STUDENT                 318831.45\n",
       "               VOLUNTEER               257104.00\n",
       "               MICROSOFT               215585.36\n",
       "               SIDLEY AUSTIN LLP       168254.00\n",
       "               REFUSED                 149516.07\n",
       "               DLA PIPER               148235.00\n",
       "Romney, Mitt   NOT PROVIDED          12059527.24\n",
       "               RETIRED               11506225.71\n",
       "               NOT EMPLOYED           8149696.22\n",
       "               SELF-EMPLOYED          7414115.22\n",
       "               STUDENT                 496490.94\n",
       "               CREDIT SUISSE           281150.00\n",
       "               MORGAN STANLEY          267266.00\n",
       "               GOLDMAN SACH & CO.      238250.00\n",
       "               BARCLAYS CAPITAL        162750.00\n",
       "               H.I.G. CAPITAL          139500.00\n",
       "Name: contb_receipt_amt, dtype: float64"
      ]
     },
     "execution_count": 73,
     "metadata": {},
     "output_type": "execute_result"
    }
   ],
   "source": [
    "grouped = fec_mrbo.groupby('cand_nm')\n",
    "grouped.apply(get_top_amounts, 'contbr_occupation', n=7)\n",
    "grouped.apply(get_top_amounts, 'contbr_employer', n=10)"
   ]
  },
  {
   "cell_type": "markdown",
   "id": "3df1ad18",
   "metadata": {},
   "source": [
    "### Bucketing Donation Amounts"
   ]
  },
  {
   "cell_type": "code",
   "execution_count": 41,
   "id": "4600c255",
   "metadata": {},
   "outputs": [
    {
     "data": {
      "text/plain": [
       "411         (10, 100]\n",
       "412       (100, 1000]\n",
       "413       (100, 1000]\n",
       "414         (10, 100]\n",
       "415         (10, 100]\n",
       "             ...     \n",
       "701381      (10, 100]\n",
       "701382    (100, 1000]\n",
       "701383        (1, 10]\n",
       "701384      (10, 100]\n",
       "701385    (100, 1000]\n",
       "Name: contb_receipt_amt, Length: 694282, dtype: category\n",
       "Categories (8, interval[int64]): [(0, 1] < (1, 10] < (10, 100] < (100, 1000] < (1000, 10000] < (10000, 100000] < (100000, 1000000] < (1000000, 10000000]]"
      ]
     },
     "execution_count": 41,
     "metadata": {},
     "output_type": "execute_result"
    }
   ],
   "source": [
    "bins = np.array([0, 1, 10, 100, 1000, 10000,\n",
    "                 100000, 1000000, 10000000])\n",
    "labels = pd.cut(fec_mrbo.contb_receipt_amt, bins)\n",
    "labels"
   ]
  },
  {
   "cell_type": "code",
   "execution_count": 57,
   "id": "2b4910fd",
   "metadata": {},
   "outputs": [
    {
     "data": {
      "text/html": [
       "<div>\n",
       "<style scoped>\n",
       "    .dataframe tbody tr th:only-of-type {\n",
       "        vertical-align: middle;\n",
       "    }\n",
       "\n",
       "    .dataframe tbody tr th {\n",
       "        vertical-align: top;\n",
       "    }\n",
       "\n",
       "    .dataframe thead th {\n",
       "        text-align: right;\n",
       "    }\n",
       "</style>\n",
       "<table border=\"1\" class=\"dataframe\">\n",
       "  <thead>\n",
       "    <tr style=\"text-align: right;\">\n",
       "      <th>cand_nm</th>\n",
       "      <th>Obama, Barack</th>\n",
       "      <th>Romney, Mitt</th>\n",
       "    </tr>\n",
       "    <tr>\n",
       "      <th>contb_receipt_amt</th>\n",
       "      <th></th>\n",
       "      <th></th>\n",
       "    </tr>\n",
       "  </thead>\n",
       "  <tbody>\n",
       "    <tr>\n",
       "      <th>(0, 1]</th>\n",
       "      <td>493</td>\n",
       "      <td>77</td>\n",
       "    </tr>\n",
       "    <tr>\n",
       "      <th>(1, 10]</th>\n",
       "      <td>40070</td>\n",
       "      <td>3681</td>\n",
       "    </tr>\n",
       "    <tr>\n",
       "      <th>(10, 100]</th>\n",
       "      <td>372280</td>\n",
       "      <td>31853</td>\n",
       "    </tr>\n",
       "    <tr>\n",
       "      <th>(100, 1000]</th>\n",
       "      <td>153991</td>\n",
       "      <td>43357</td>\n",
       "    </tr>\n",
       "    <tr>\n",
       "      <th>(1000, 10000]</th>\n",
       "      <td>22284</td>\n",
       "      <td>26186</td>\n",
       "    </tr>\n",
       "    <tr>\n",
       "      <th>(10000, 100000]</th>\n",
       "      <td>2</td>\n",
       "      <td>1</td>\n",
       "    </tr>\n",
       "    <tr>\n",
       "      <th>(100000, 1000000]</th>\n",
       "      <td>3</td>\n",
       "      <td>0</td>\n",
       "    </tr>\n",
       "    <tr>\n",
       "      <th>(1000000, 10000000]</th>\n",
       "      <td>4</td>\n",
       "      <td>0</td>\n",
       "    </tr>\n",
       "  </tbody>\n",
       "</table>\n",
       "</div>"
      ],
      "text/plain": [
       "cand_nm              Obama, Barack  Romney, Mitt\n",
       "contb_receipt_amt                               \n",
       "(0, 1]                         493            77\n",
       "(1, 10]                      40070          3681\n",
       "(10, 100]                   372280         31853\n",
       "(100, 1000]                 153991         43357\n",
       "(1000, 10000]                22284         26186\n",
       "(10000, 100000]                  2             1\n",
       "(100000, 1000000]                3             0\n",
       "(1000000, 10000000]              4             0"
      ]
     },
     "execution_count": 57,
     "metadata": {},
     "output_type": "execute_result"
    }
   ],
   "source": [
    "grouped = fec_mrbo.groupby(['cand_nm', labels])\n",
    "grouped.size().unstack(0)"
   ]
  },
  {
   "cell_type": "code",
   "execution_count": 58,
   "id": "94691dd7",
   "metadata": {},
   "outputs": [
    {
     "data": {
      "text/html": [
       "<div>\n",
       "<style scoped>\n",
       "    .dataframe tbody tr th:only-of-type {\n",
       "        vertical-align: middle;\n",
       "    }\n",
       "\n",
       "    .dataframe tbody tr th {\n",
       "        vertical-align: top;\n",
       "    }\n",
       "\n",
       "    .dataframe thead th {\n",
       "        text-align: right;\n",
       "    }\n",
       "</style>\n",
       "<table border=\"1\" class=\"dataframe\">\n",
       "  <thead>\n",
       "    <tr style=\"text-align: right;\">\n",
       "      <th>cand_nm</th>\n",
       "      <th>Obama, Barack</th>\n",
       "      <th>Romney, Mitt</th>\n",
       "    </tr>\n",
       "    <tr>\n",
       "      <th>contb_receipt_amt</th>\n",
       "      <th></th>\n",
       "      <th></th>\n",
       "    </tr>\n",
       "  </thead>\n",
       "  <tbody>\n",
       "    <tr>\n",
       "      <th>(0, 1]</th>\n",
       "      <td>0.805182</td>\n",
       "      <td>0.194818</td>\n",
       "    </tr>\n",
       "    <tr>\n",
       "      <th>(1, 10]</th>\n",
       "      <td>0.918767</td>\n",
       "      <td>0.081233</td>\n",
       "    </tr>\n",
       "    <tr>\n",
       "      <th>(10, 100]</th>\n",
       "      <td>0.910769</td>\n",
       "      <td>0.089231</td>\n",
       "    </tr>\n",
       "    <tr>\n",
       "      <th>(100, 1000]</th>\n",
       "      <td>0.710176</td>\n",
       "      <td>0.289824</td>\n",
       "    </tr>\n",
       "    <tr>\n",
       "      <th>(1000, 10000]</th>\n",
       "      <td>0.447326</td>\n",
       "      <td>0.552674</td>\n",
       "    </tr>\n",
       "    <tr>\n",
       "      <th>(10000, 100000]</th>\n",
       "      <td>0.823120</td>\n",
       "      <td>0.176880</td>\n",
       "    </tr>\n",
       "    <tr>\n",
       "      <th>(100000, 1000000]</th>\n",
       "      <td>1.000000</td>\n",
       "      <td>0.000000</td>\n",
       "    </tr>\n",
       "    <tr>\n",
       "      <th>(1000000, 10000000]</th>\n",
       "      <td>1.000000</td>\n",
       "      <td>0.000000</td>\n",
       "    </tr>\n",
       "  </tbody>\n",
       "</table>\n",
       "</div>"
      ],
      "text/plain": [
       "cand_nm              Obama, Barack  Romney, Mitt\n",
       "contb_receipt_amt                               \n",
       "(0, 1]                    0.805182      0.194818\n",
       "(1, 10]                   0.918767      0.081233\n",
       "(10, 100]                 0.910769      0.089231\n",
       "(100, 1000]               0.710176      0.289824\n",
       "(1000, 10000]             0.447326      0.552674\n",
       "(10000, 100000]           0.823120      0.176880\n",
       "(100000, 1000000]         1.000000      0.000000\n",
       "(1000000, 10000000]       1.000000      0.000000"
      ]
     },
     "execution_count": 58,
     "metadata": {},
     "output_type": "execute_result"
    }
   ],
   "source": [
    "#for each bin, what percentage went to each candidate? (rows sum to 1)\n",
    "bucket_sums = grouped.contb_receipt_amt.sum().unstack(0)\n",
    "normed_sums = bucket_sums.div(bucket_sums.sum(axis=1), axis=0)\n",
    "normed_sums"
   ]
  },
  {
   "cell_type": "code",
   "execution_count": 59,
   "id": "35a97c5f",
   "metadata": {},
   "outputs": [
    {
     "data": {
      "text/plain": [
       "<AxesSubplot:xlabel='contb_receipt_amt'>"
      ]
     },
     "execution_count": 59,
     "metadata": {},
     "output_type": "execute_result"
    },
    {
     "data": {
      "image/png": "[encoded data removed]",
      "text/plain": [
       "<Figure size 720x432 with 1 Axes>"
      ]
     },
     "metadata": {
      "needs_background": "light"
     },
     "output_type": "display_data"
    },
    {
     "data": {
      "image/png": "[encoded data removed]",
      "text/plain": [
       "<Figure size 720x432 with 1 Axes>"
      ]
     },
     "metadata": {
      "needs_background": "light"
     },
     "output_type": "display_data"
    }
   ],
   "source": [
    "#which plot is more meaningful?\n",
    "normed_sums[:-2].plot(kind='barh')\n",
    "normed_sums[:-2].plot(kind='line')"
   ]
  },
  {
   "cell_type": "code",
   "execution_count": 60,
   "id": "e3e4df84",
   "metadata": {},
   "outputs": [],
   "source": [
    "#for each candidate what percentage went to each bin? (cols sum to 1)\n",
    "normed_sums = bucket_sums.div(bucket_sums.sum())"
   ]
  },
  {
   "cell_type": "code",
   "execution_count": 61,
   "id": "8f8b422e",
   "metadata": {},
   "outputs": [
    {
     "data": {
      "text/plain": [
       "<AxesSubplot:xlabel='contb_receipt_amt'>"
      ]
     },
     "execution_count": 61,
     "metadata": {},
     "output_type": "execute_result"
    },
    {
     "data": {
      "image/png": "[encoded data removed]",
      "text/plain": [
       "<Figure size 720x432 with 1 Axes>"
      ]
     },
     "metadata": {
      "needs_background": "light"
     },
     "output_type": "display_data"
    },
    {
     "data": {
      "image/png": "[encoded data removed]",
      "text/plain": [
       "<Figure size 720x432 with 1 Axes>"
      ]
     },
     "metadata": {
      "needs_background": "light"
     },
     "output_type": "display_data"
    }
   ],
   "source": [
    "#which plot is more meaningful?\n",
    "normed_sums[:-2].plot(kind='barh')\n",
    "normed_sums[:-2].plot(kind='line')"
   ]
  },
  {
   "cell_type": "markdown",
   "id": "8025db8c",
   "metadata": {},
   "source": [
    "### Donation Statistics by State"
   ]
  },
  {
   "cell_type": "code",
   "execution_count": 62,
   "id": "4b722d45",
   "metadata": {},
   "outputs": [
    {
     "data": {
      "text/html": [
       "<div>\n",
       "<style scoped>\n",
       "    .dataframe tbody tr th:only-of-type {\n",
       "        vertical-align: middle;\n",
       "    }\n",
       "\n",
       "    .dataframe tbody tr th {\n",
       "        vertical-align: top;\n",
       "    }\n",
       "\n",
       "    .dataframe thead th {\n",
       "        text-align: right;\n",
       "    }\n",
       "</style>\n",
       "<table border=\"1\" class=\"dataframe\">\n",
       "  <thead>\n",
       "    <tr style=\"text-align: right;\">\n",
       "      <th>cand_nm</th>\n",
       "      <th>Obama, Barack</th>\n",
       "      <th>Romney, Mitt</th>\n",
       "    </tr>\n",
       "    <tr>\n",
       "      <th>contbr_st</th>\n",
       "      <th></th>\n",
       "      <th></th>\n",
       "    </tr>\n",
       "  </thead>\n",
       "  <tbody>\n",
       "    <tr>\n",
       "      <th>AK</th>\n",
       "      <td>281840.15</td>\n",
       "      <td>86204.24</td>\n",
       "    </tr>\n",
       "    <tr>\n",
       "      <th>AL</th>\n",
       "      <td>543123.48</td>\n",
       "      <td>527303.51</td>\n",
       "    </tr>\n",
       "    <tr>\n",
       "      <th>AR</th>\n",
       "      <td>359247.28</td>\n",
       "      <td>105556.00</td>\n",
       "    </tr>\n",
       "    <tr>\n",
       "      <th>AZ</th>\n",
       "      <td>1506476.98</td>\n",
       "      <td>1888436.23</td>\n",
       "    </tr>\n",
       "    <tr>\n",
       "      <th>CA</th>\n",
       "      <td>23824984.24</td>\n",
       "      <td>11237636.60</td>\n",
       "    </tr>\n",
       "    <tr>\n",
       "      <th>CO</th>\n",
       "      <td>2132429.49</td>\n",
       "      <td>1506714.12</td>\n",
       "    </tr>\n",
       "    <tr>\n",
       "      <th>CT</th>\n",
       "      <td>2068291.26</td>\n",
       "      <td>3499475.45</td>\n",
       "    </tr>\n",
       "    <tr>\n",
       "      <th>DC</th>\n",
       "      <td>4373538.80</td>\n",
       "      <td>1025137.50</td>\n",
       "    </tr>\n",
       "    <tr>\n",
       "      <th>DE</th>\n",
       "      <td>336669.14</td>\n",
       "      <td>82712.00</td>\n",
       "    </tr>\n",
       "    <tr>\n",
       "      <th>FL</th>\n",
       "      <td>7318178.58</td>\n",
       "      <td>8338458.81</td>\n",
       "    </tr>\n",
       "  </tbody>\n",
       "</table>\n",
       "</div>"
      ],
      "text/plain": [
       "cand_nm    Obama, Barack  Romney, Mitt\n",
       "contbr_st                             \n",
       "AK             281840.15      86204.24\n",
       "AL             543123.48     527303.51\n",
       "AR             359247.28     105556.00\n",
       "AZ            1506476.98    1888436.23\n",
       "CA           23824984.24   11237636.60\n",
       "CO            2132429.49    1506714.12\n",
       "CT            2068291.26    3499475.45\n",
       "DC            4373538.80    1025137.50\n",
       "DE             336669.14      82712.00\n",
       "FL            7318178.58    8338458.81"
      ]
     },
     "execution_count": 62,
     "metadata": {},
     "output_type": "execute_result"
    }
   ],
   "source": [
    "grouped = fec_mrbo.groupby(['cand_nm', 'contbr_st'])\n",
    "totals = grouped.contb_receipt_amt.sum().unstack(0).fillna(0)\n",
    "totals = totals[totals.sum(1) > 100000]\n",
    "totals[:10]"
   ]
  },
  {
   "cell_type": "code",
   "execution_count": 68,
   "id": "099557d0",
   "metadata": {},
   "outputs": [
    {
     "data": {
      "text/html": [
       "<div>\n",
       "<style scoped>\n",
       "    .dataframe tbody tr th:only-of-type {\n",
       "        vertical-align: middle;\n",
       "    }\n",
       "\n",
       "    .dataframe tbody tr th {\n",
       "        vertical-align: top;\n",
       "    }\n",
       "\n",
       "    .dataframe thead th {\n",
       "        text-align: right;\n",
       "    }\n",
       "</style>\n",
       "<table border=\"1\" class=\"dataframe\">\n",
       "  <thead>\n",
       "    <tr style=\"text-align: right;\">\n",
       "      <th>cand_nm</th>\n",
       "      <th>Obama, Barack</th>\n",
       "      <th>Romney, Mitt</th>\n",
       "    </tr>\n",
       "    <tr>\n",
       "      <th>contbr_st</th>\n",
       "      <th></th>\n",
       "      <th></th>\n",
       "    </tr>\n",
       "  </thead>\n",
       "  <tbody>\n",
       "    <tr>\n",
       "      <th>AK</th>\n",
       "      <td>0.765778</td>\n",
       "      <td>0.234222</td>\n",
       "    </tr>\n",
       "    <tr>\n",
       "      <th>AL</th>\n",
       "      <td>0.507390</td>\n",
       "      <td>0.492610</td>\n",
       "    </tr>\n",
       "    <tr>\n",
       "      <th>AR</th>\n",
       "      <td>0.772902</td>\n",
       "      <td>0.227098</td>\n",
       "    </tr>\n",
       "    <tr>\n",
       "      <th>AZ</th>\n",
       "      <td>0.443745</td>\n",
       "      <td>0.556255</td>\n",
       "    </tr>\n",
       "    <tr>\n",
       "      <th>CA</th>\n",
       "      <td>0.679498</td>\n",
       "      <td>0.320502</td>\n",
       "    </tr>\n",
       "    <tr>\n",
       "      <th>CO</th>\n",
       "      <td>0.585970</td>\n",
       "      <td>0.414030</td>\n",
       "    </tr>\n",
       "    <tr>\n",
       "      <th>CT</th>\n",
       "      <td>0.371476</td>\n",
       "      <td>0.628524</td>\n",
       "    </tr>\n",
       "    <tr>\n",
       "      <th>DC</th>\n",
       "      <td>0.810113</td>\n",
       "      <td>0.189887</td>\n",
       "    </tr>\n",
       "    <tr>\n",
       "      <th>DE</th>\n",
       "      <td>0.802776</td>\n",
       "      <td>0.197224</td>\n",
       "    </tr>\n",
       "    <tr>\n",
       "      <th>FL</th>\n",
       "      <td>0.467417</td>\n",
       "      <td>0.532583</td>\n",
       "    </tr>\n",
       "  </tbody>\n",
       "</table>\n",
       "</div>"
      ],
      "text/plain": [
       "cand_nm    Obama, Barack  Romney, Mitt\n",
       "contbr_st                             \n",
       "AK              0.765778      0.234222\n",
       "AL              0.507390      0.492610\n",
       "AR              0.772902      0.227098\n",
       "AZ              0.443745      0.556255\n",
       "CA              0.679498      0.320502\n",
       "CO              0.585970      0.414030\n",
       "CT              0.371476      0.628524\n",
       "DC              0.810113      0.189887\n",
       "DE              0.802776      0.197224\n",
       "FL              0.467417      0.532583"
      ]
     },
     "execution_count": 68,
     "metadata": {},
     "output_type": "execute_result"
    }
   ],
   "source": [
    "percent = totals.div(totals.sum(1), axis=0)\n",
    "percent[:10]"
   ]
  },
  {
   "cell_type": "markdown",
   "id": "c087b341",
   "metadata": {},
   "source": [
    "## References\n",
    "+ [Source](https://github.com/wesm/pydata-book)\n",
    "+ [FEC data collection (Harvard)](https://dataverse.harvard.edu/dataset.xhtml?persistentId=doi:10.7910/DVN/BQN6XE)\n",
    "+ [FEC data api](https://api.open.fec.gov/developers/)\n"
   ]
  }
 ],
 "metadata": {
  "kernelspec": {
   "display_name": "Python 3 (ipykernel)",
   "language": "python",
   "name": "python3"
  },
  "language_info": {
   "codemirror_mode": {
    "name": "ipython",
    "version": 3
   },
   "file_extension": ".py",
   "mimetype": "text/x-python",
   "name": "python",
   "nbconvert_exporter": "python",
   "pygments_lexer": "ipython3",
   "version": "3.8.8"
  }
 },
 "nbformat": 4,
 "nbformat_minor": 5
}
